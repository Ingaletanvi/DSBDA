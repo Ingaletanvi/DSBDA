{
  "nbformat": 4,
  "nbformat_minor": 0,
  "metadata": {
    "colab": {
      "provenance": [],
      "authorship_tag": "ABX9TyOKZ5WWFa0Nmc86n3gsLIGZ",
      "include_colab_link": true
    },
    "kernelspec": {
      "name": "python3",
      "display_name": "Python 3"
    },
    "language_info": {
      "name": "python"
    }
  },
  "cells": [
    {
      "cell_type": "markdown",
      "metadata": {
        "id": "view-in-github",
        "colab_type": "text"
      },
      "source": [
        "<a href=\"https://colab.research.google.com/github/Ingaletanvi/DSBDA/blob/main/3_iris.ipynb\" target=\"_parent\"><img src=\"https://colab.research.google.com/assets/colab-badge.svg\" alt=\"Open In Colab\"/></a>"
      ]
    },
    {
      "cell_type": "markdown",
      "source": [
        "Write a Python program to display some basic statistical details like percentile, mean, standard deviation etc. of the\n",
        "species of ‘Iris-setosa’, ‘Iris-versicolor’ and ‘Iris-virginica’ of iris.csv dataset.\n",
        "Calculate the measures of variability. Calculate and provide the visualization of the Correlation among the variables."
      ],
      "metadata": {
        "id": "iD4bhs5jIlST"
      }
    },
    {
      "cell_type": "code",
      "execution_count": null,
      "metadata": {
        "id": "a1TVPm3UFcjY"
      },
      "outputs": [],
      "source": [
        "import pandas as pd\n",
        "import numpy as np\n",
        "import statistics as st\n",
        "import seaborn as sns\n",
        "import matplotlib.pyplot as plt\n"
      ]
    },
    {
      "cell_type": "code",
      "source": [
        "df=pd.read_csv('/Iris.csv')"
      ],
      "metadata": {
        "id": "hcdy6df_ITgS"
      },
      "execution_count": null,
      "outputs": []
    },
    {
      "cell_type": "code",
      "source": [
        "df"
      ],
      "metadata": {
        "id": "qdERX9n2Iby-"
      },
      "execution_count": null,
      "outputs": []
    },
    {
      "cell_type": "code",
      "source": [
        "df.isnull().sum()"
      ],
      "metadata": {
        "id": "cHAoH35KIfOJ"
      },
      "execution_count": null,
      "outputs": []
    },
    {
      "cell_type": "code",
      "source": [
        "df['Species'].unique()"
      ],
      "metadata": {
        "id": "0taTwJMAIjmU"
      },
      "execution_count": null,
      "outputs": []
    },
    {
      "cell_type": "code",
      "source": [
        "species_group =df.groupby(\"Species\")"
      ],
      "metadata": {
        "id": "UAQwz2hyJigq"
      },
      "execution_count": null,
      "outputs": []
    },
    {
      "cell_type": "code",
      "source": [
        "features = [feat for feat in df.columns if df[feat].dtype != 'O']\n",
        "features"
      ],
      "metadata": {
        "id": "jagt_M_ZM8pZ"
      },
      "execution_count": null,
      "outputs": []
    },
    {
      "cell_type": "code",
      "source": [
        "species_group.mean()"
      ],
      "metadata": {
        "id": "Tj_Hz20aKAIe"
      },
      "execution_count": null,
      "outputs": []
    },
    {
      "cell_type": "code",
      "source": [
        "species_group.std()"
      ],
      "metadata": {
        "id": "h33i2pPILyYA"
      },
      "execution_count": null,
      "outputs": []
    },
    {
      "cell_type": "code",
      "source": [
        "species_group.var()"
      ],
      "metadata": {
        "id": "6fKMC0Z8L2Xe"
      },
      "execution_count": null,
      "outputs": []
    },
    {
      "cell_type": "code",
      "source": [
        "species_group.describe()"
      ],
      "metadata": {
        "id": "oQ2obh_vL5be"
      },
      "execution_count": null,
      "outputs": []
    },
    {
      "cell_type": "code",
      "source": [
        "def covariance(x, y):\n",
        " # Finding the mean of the series x and y\n",
        " mean_x = sum(x)/len(x)\n",
        " mean_y = sum(y)/len(y)\n",
        " # Subtracting mean from the individual elements\n",
        " sub_x = [i - mean_x for i in x]\n",
        " sub_y = [i - mean_y for i in y]\n",
        " numerator = sum([sub_x[i]*sub_y[i] for i in range(len(sub_x))])\n",
        " denominator = len(x)-1\n",
        " cov = numerator/denominator\n",
        " return cov\n"
      ],
      "metadata": {
        "id": "7Ri49pvsMZV0"
      },
      "execution_count": null,
      "outputs": []
    },
    {
      "cell_type": "code",
      "source": [
        "for i in [0,1,2,3]:\n",
        " for j in [0,1,2,3]:\n",
        "  if (i < j and i != j):\n",
        "    val = covariance(df[features[i]],df[features[j]])\n",
        "    print('Covariance for {} and {} : {}'.format(features[i],features[j],val))"
      ],
      "metadata": {
        "id": "4abnafUOMoR0"
      },
      "execution_count": null,
      "outputs": []
    },
    {
      "cell_type": "code",
      "source": [
        "def correlation(x, y):\n",
        " mean_x = sum(x)/float(len(x))\n",
        " mean_y = sum(y)/float(len(y))\n",
        " sub_x = [i-mean_x for i in x]\n",
        " sub_y = [i-mean_y for i in y]\n",
        " numerator = sum([sub_x[i]*sub_y[i] for i in range(len(sub_x))])\n",
        " std_deviation_x = sum([sub_x[i]**2.0 for i in range(len(sub_x))])\n",
        " std_deviation_y = sum([sub_y[i]**2.0 for i in range(len(sub_y))])\n",
        " denominator = (std_deviation_x*std_deviation_y)**0.5\n",
        " cor = numerator/denominator\n",
        " return cor"
      ],
      "metadata": {
        "id": "BdvSRJUeNGXE"
      },
      "execution_count": null,
      "outputs": []
    },
    {
      "cell_type": "code",
      "source": [
        "for i in [0,1,2,3]:\n",
        " for j in [0,1,2,3]:\n",
        "  if (i < j and i != j):\n",
        "    val = correlation(df[features[i]],df[features[j]])\n",
        "    print('Correlation for {} and {} : {}'.format(features[i],features[j],val))"
      ],
      "metadata": {
        "id": "q4fHvt0mNfKR"
      },
      "execution_count": null,
      "outputs": []
    },
    {
      "cell_type": "code",
      "source": [
        "for i in [0,1,2,3]:\n",
        " for j in [0,1,2,3]:\n",
        "  if(i<j and i != j ):\n",
        "    fig = plt.figure()\n",
        "    fig.set_figheight(5)\n",
        "    fig.set_figwidth(5)\n",
        "    ax = sns.scatterplot(x=features[i], y=features[j],data=df, hue='Species')\n",
        "    plt.xlabel(features[i])\n",
        "    plt.ylabel(features[j])\n",
        "    plt.title('Scatterplot of {} vs{}'.format(features[i],features[j]))\n",
        "    plt.show()"
      ],
      "metadata": {
        "id": "ve929A6jORPq"
      },
      "execution_count": null,
      "outputs": []
    },
    {
      "cell_type": "code",
      "source": [
        "cormatrix = df.corr(numeric_only=True)\n",
        "round(cormatrix,4)\n"
      ],
      "metadata": {
        "id": "Ln3sOw9NPFov"
      },
      "execution_count": null,
      "outputs": []
    },
    {
      "cell_type": "code",
      "source": [
        "sns.set(style=\"whitegrid\")\n",
        "sns.heatmap(cormatrix, cmap=\"gray\", annot=True, cbar=False,linecolor='blue')\n",
        "plt.show()\n"
      ],
      "metadata": {
        "id": "IVKNv33bPLLr"
      },
      "execution_count": null,
      "outputs": []
    }
  ]
}