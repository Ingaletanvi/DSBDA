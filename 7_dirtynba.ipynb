{
  "nbformat": 4,
  "nbformat_minor": 0,
  "metadata": {
    "colab": {
      "provenance": [],
      "authorship_tag": "ABX9TyOV+K+w4cP1BURlsQJhVTc3",
      "include_colab_link": true
    },
    "kernelspec": {
      "name": "python3",
      "display_name": "Python 3"
    },
    "language_info": {
      "name": "python"
    }
  },
  "cells": [
    {
      "cell_type": "markdown",
      "metadata": {
        "id": "view-in-github",
        "colab_type": "text"
      },
      "source": [
        "<a href=\"https://colab.research.google.com/github/Ingaletanvi/DSBDA/blob/main/7_dirtynba.ipynb\" target=\"_parent\"><img src=\"https://colab.research.google.com/assets/colab-badge.svg\" alt=\"Open In Colab\"/></a>"
      ]
    },
    {
      "cell_type": "markdown",
      "source": [
        "Perform the following operations using Python on any open source dataset.\n",
        "1. Import all the required Python Libraries.\n",
        "2. Load the Dataset into pandas data frame.\n",
        "4. Data Preprocessing: check for missing values in the data to get some initial statistics. Provide variable descriptions.\n",
        "Types of variables etc. Check the dimensions of the data frame.\n",
        "5. Data Formatting and Data Normalization: Summarize the types of variables by checking the data types (i.e.,\n",
        "character, numeric, integer, factor, and logical) of the variables in the data set. If variables are not in the correct data\n",
        "type, apply proper type conversions.\n",
        "6. Turn categorical variables into quantitative variables in Python. In addition to the codes and outputs, explain every\n",
        "operation that you do in the above steps and explain everything that you do to import/read/scrape the data set.\n",
        "Use NBA.CSV, Dirtydata.csv"
      ],
      "metadata": {
        "id": "ebDZdipi-lTQ"
      }
    },
    {
      "cell_type": "code",
      "source": [
        "import pandas as pd\n",
        "import numpy as np"
      ],
      "metadata": {
        "id": "7gX9ORyG-42i"
      },
      "execution_count": null,
      "outputs": []
    },
    {
      "cell_type": "code",
      "execution_count": null,
      "metadata": {
        "id": "cDo2REez-kPe"
      },
      "outputs": [],
      "source": [
        "df_data = pd.read_excel(\"/content/dirtydata.xlsx\")\n",
        "df_nba = pd.read_excel(\"/content/nba.xlsx\")"
      ]
    },
    {
      "cell_type": "code",
      "source": [
        "df_data.head()\n"
      ],
      "metadata": {
        "id": "rXU8YDVO_DF-"
      },
      "execution_count": null,
      "outputs": []
    },
    {
      "cell_type": "code",
      "source": [
        "df_nba.head()"
      ],
      "metadata": {
        "id": "O8wFQRxM_OyZ"
      },
      "execution_count": null,
      "outputs": []
    },
    {
      "cell_type": "code",
      "source": [
        "df_data.shape"
      ],
      "metadata": {
        "id": "jmnqeqaS_TjH"
      },
      "execution_count": null,
      "outputs": []
    },
    {
      "cell_type": "code",
      "source": [
        "df_data.describe()"
      ],
      "metadata": {
        "id": "MItu6Pvv_cm4"
      },
      "execution_count": null,
      "outputs": []
    },
    {
      "cell_type": "code",
      "source": [
        "df_data.isnull().sum()"
      ],
      "metadata": {
        "id": "X7aAr3Yt_w_J"
      },
      "execution_count": null,
      "outputs": []
    },
    {
      "cell_type": "code",
      "source": [
        "df_data['Calories'].fillna(df_data['Calories'].mean(), inplace=True)\n"
      ],
      "metadata": {
        "id": "9LaEilZzBCnl"
      },
      "execution_count": null,
      "outputs": []
    },
    {
      "cell_type": "code",
      "source": [
        "df_data\n"
      ],
      "metadata": {
        "id": "bNT2p82iBI0_"
      },
      "execution_count": null,
      "outputs": []
    },
    {
      "cell_type": "code",
      "source": [
        "df_data.isnull().sum()"
      ],
      "metadata": {
        "id": "HB-jJpvGBMb7"
      },
      "execution_count": null,
      "outputs": []
    },
    {
      "cell_type": "code",
      "source": [
        "df_data.duplicated()"
      ],
      "metadata": {
        "id": "lv5AYghtBWBn"
      },
      "execution_count": null,
      "outputs": []
    },
    {
      "cell_type": "code",
      "source": [
        "df_data.loc[24]"
      ],
      "metadata": {
        "id": "Xead3iCCBcE8"
      },
      "execution_count": null,
      "outputs": []
    },
    {
      "cell_type": "code",
      "source": [
        "df_data['Calories'] = df_data['Calories'].abs()"
      ],
      "metadata": {
        "id": "77vOlOPMBh9X"
      },
      "execution_count": null,
      "outputs": []
    },
    {
      "cell_type": "code",
      "source": [
        "df_data.head()"
      ],
      "metadata": {
        "id": "xsrwobTEBpKk"
      },
      "execution_count": null,
      "outputs": []
    },
    {
      "cell_type": "code",
      "source": [
        "df_data = df_data.dropna()"
      ],
      "metadata": {
        "id": "A-F8jZiWBwq-"
      },
      "execution_count": null,
      "outputs": []
    },
    {
      "cell_type": "code",
      "source": [
        "df_data"
      ],
      "metadata": {
        "id": "f4owvTm5CBtf"
      },
      "execution_count": null,
      "outputs": []
    },
    {
      "cell_type": "code",
      "source": [
        "df_data.isnull().sum()"
      ],
      "metadata": {
        "id": "ze6ZS35FB13f"
      },
      "execution_count": null,
      "outputs": []
    },
    {
      "cell_type": "code",
      "source": [
        "performance= df_nba.select_dtypes(exclude=[np.number])"
      ],
      "metadata": {
        "id": "ocnT8ZDNDGf5"
      },
      "execution_count": null,
      "outputs": []
    },
    {
      "cell_type": "code",
      "source": [
        "performance"
      ],
      "metadata": {
        "id": "Xg7Qp4vkDsnB"
      },
      "execution_count": null,
      "outputs": []
    },
    {
      "cell_type": "code",
      "source": [
        "from sklearn.preprocessing import LabelEncoder\n",
        "label_encoder = LabelEncoder()\n",
        "cols = ['Name','Team', 'College', 'Position']\n",
        "for i in cols:\n",
        "    performance[i] = label_encoder.fit_transform(performance[i])\n",
        "performance"
      ],
      "metadata": {
        "id": "gezoPSCXC9Su"
      },
      "execution_count": null,
      "outputs": []
    }
  ]
}