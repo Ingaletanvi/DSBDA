{
  "nbformat": 4,
  "nbformat_minor": 0,
  "metadata": {
    "colab": {
      "provenance": [],
      "authorship_tag": "ABX9TyNESXCzy98cm0RZeQBBf4mM",
      "include_colab_link": true
    },
    "kernelspec": {
      "name": "python3",
      "display_name": "Python 3"
    },
    "language_info": {
      "name": "python"
    }
  },
  "cells": [
    {
      "cell_type": "markdown",
      "metadata": {
        "id": "view-in-github",
        "colab_type": "text"
      },
      "source": [
        "<a href=\"https://colab.research.google.com/github/Ingaletanvi/DSBDA/blob/main/2%20age.ipynb\" target=\"_parent\"><img src=\"https://colab.research.google.com/assets/colab-badge.svg\" alt=\"Open In Colab\"/></a>"
      ]
    },
    {
      "cell_type": "code",
      "execution_count": null,
      "metadata": {
        "id": "8dyW1wIU7Qbz"
      },
      "outputs": [],
      "source": [
        "import pandas as pd\n",
        "import numpy as np"
      ]
    },
    {
      "cell_type": "code",
      "source": [
        "df=pd.read_excel(\"/content/Age-Income-Dataset.xlsx\")"
      ],
      "metadata": {
        "id": "QVjlOIqP7i48"
      },
      "execution_count": null,
      "outputs": []
    },
    {
      "cell_type": "code",
      "source": [
        "df"
      ],
      "metadata": {
        "id": "mlI9ihCA7woa"
      },
      "execution_count": null,
      "outputs": []
    },
    {
      "cell_type": "code",
      "source": [
        "mean = sum(df['Income'])/len(df['Income'])\n",
        "mean"
      ],
      "metadata": {
        "id": "e2PQHfsb70CZ"
      },
      "execution_count": null,
      "outputs": []
    },
    {
      "cell_type": "code",
      "source": [
        "n = len(df['Income'])\n",
        "if n%2:\n",
        "  median=sorted(df['Income'])[round(0.5*(n-1))]\n",
        "else:\n",
        "  order,index=sorted(df['Income']),round(0.5*n)\n",
        "  median = 0.5 * (order[index-1]+order[index])\n",
        "median\n"
      ],
      "metadata": {
        "id": "ZzJouEc_8KO4"
      },
      "execution_count": null,
      "outputs": []
    },
    {
      "cell_type": "code",
      "source": [
        "income = df['Income'].tolist()\n",
        "income_mode = max((income.count(item), item) for item in set(income))[1]\n",
        "income_mode"
      ],
      "metadata": {
        "id": "y1SU-az8AdCe"
      },
      "execution_count": null,
      "outputs": []
    },
    {
      "cell_type": "code",
      "source": [
        "group = df.groupby('Income').size().to_dict()\n",
        "mode = [i for i,j in group.items() if j==max(group.values())]\n",
        "mode"
      ],
      "metadata": {
        "id": "Z5qVjUqfDLVM"
      },
      "execution_count": null,
      "outputs": []
    },
    {
      "cell_type": "code",
      "source": [
        "mean = df['Income'].mean()\n",
        "mean"
      ],
      "metadata": {
        "id": "1ca8y8N2DR7r"
      },
      "execution_count": null,
      "outputs": []
    },
    {
      "cell_type": "code",
      "source": [
        "median = df['Income'].median()\n",
        "median"
      ],
      "metadata": {
        "id": "U5cebUTfDaL1"
      },
      "execution_count": null,
      "outputs": []
    },
    {
      "cell_type": "code",
      "source": [
        "mode = df['Income'].mode()\n",
        "mode"
      ],
      "metadata": {
        "id": "DbsUwku7Dlu5"
      },
      "execution_count": null,
      "outputs": []
    },
    {
      "cell_type": "code",
      "source": [
        "df['Age'].unique()"
      ],
      "metadata": {
        "id": "l1IHoDSiDuRV"
      },
      "execution_count": null,
      "outputs": []
    },
    {
      "cell_type": "code",
      "source": [
        "mapping = {'Young':0, 'Middle Age':1, 'Old':2}\n",
        "df['Numeric Age'] = df['Age'].map(mapping)\n",
        "df.head()"
      ],
      "metadata": {
        "id": "mJlH_1wqEQ_L"
      },
      "execution_count": null,
      "outputs": []
    },
    {
      "cell_type": "code",
      "source": [
        "df.describe()"
      ],
      "metadata": {
        "id": "RI-LUGS5EebA"
      },
      "execution_count": null,
      "outputs": []
    },
    {
      "cell_type": "code",
      "source": [
        "df.groupby('Age').describe()"
      ],
      "metadata": {
        "id": "ZZ10Ua-rErXo"
      },
      "execution_count": null,
      "outputs": []
    }
  ]
}