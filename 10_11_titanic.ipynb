{
  "nbformat": 4,
  "nbformat_minor": 0,
  "metadata": {
    "colab": {
      "provenance": [],
      "authorship_tag": "ABX9TyNVn6aNoVOQuPndRuSqcusn",
      "include_colab_link": true
    },
    "kernelspec": {
      "name": "python3",
      "display_name": "Python 3"
    },
    "language_info": {
      "name": "python"
    }
  },
  "cells": [
    {
      "cell_type": "markdown",
      "metadata": {
        "id": "view-in-github",
        "colab_type": "text"
      },
      "source": [
        "<a href=\"https://colab.research.google.com/github/Ingaletanvi/DSBDA/blob/main/10_11_titanic.ipynb\" target=\"_parent\"><img src=\"https://colab.research.google.com/assets/colab-badge.svg\" alt=\"Open In Colab\"/></a>"
      ]
    },
    {
      "cell_type": "markdown",
      "source": [
        "1. Use the dataset 'titanic'. Use the Seaborn library to see if we can find any patterns in the data.\n",
        "2. Write a code to check how the price of the ticket (column name: 'fare') for each passenger is distributed by plotting a\n",
        "histogram.\n",
        "-----------------------------------------------------------------------------------------------------------------------------------------------\n",
        "Problem Statement No. 11\n",
        "1. Use the dataset 'titanic'. Plot a box plot for distribution of age with respect to each gender along with the information\n",
        "about whether they survived or not. (Column names : 'sex' and 'age')\n",
        "2. Write observations on the inference from the above statistics. Use violin plot and others plots from seaborn package"
      ],
      "metadata": {
        "id": "CnUKYEK5-eV_"
      }
    },
    {
      "cell_type": "code",
      "execution_count": null,
      "metadata": {
        "id": "mv_AZFBNxsx4"
      },
      "outputs": [],
      "source": [
        "import pandas as pd\n",
        "import numpy as np\n",
        "import matplotlib.pyplot as plt\n",
        "import seaborn as sns"
      ]
    },
    {
      "cell_type": "code",
      "source": [
        "df = pd.read_csv(\"/content/titanic.csv\")"
      ],
      "metadata": {
        "id": "_dej2hhqyDID"
      },
      "execution_count": null,
      "outputs": []
    },
    {
      "cell_type": "code",
      "source": [
        "df.head()"
      ],
      "metadata": {
        "id": "cilmtxM3yKyk"
      },
      "execution_count": null,
      "outputs": []
    },
    {
      "cell_type": "code",
      "source": [
        "df.isnull().sum()"
      ],
      "metadata": {
        "id": "qgegxE6XyPc4"
      },
      "execution_count": null,
      "outputs": []
    },
    {
      "cell_type": "code",
      "source": [
        "df['Embarked']=df['Embarked'].fillna('S')"
      ],
      "metadata": {
        "id": "i0cjx-rzyd3g"
      },
      "execution_count": null,
      "outputs": []
    },
    {
      "cell_type": "code",
      "source": [
        "df['Age'] = df['Age'].fillna(df['Age'].mean())"
      ],
      "metadata": {
        "id": "dUVbpab-ylNt"
      },
      "execution_count": null,
      "outputs": []
    },
    {
      "cell_type": "code",
      "source": [
        "df['Cabin_new'] = df['Cabin'].fillna(0)\n",
        "df['Cabin_new'] = df['Cabin'].notnull().astype(int)"
      ],
      "metadata": {
        "id": "dCEILHPiyxON"
      },
      "execution_count": null,
      "outputs": []
    },
    {
      "cell_type": "code",
      "source": [
        "df.isnull().sum()"
      ],
      "metadata": {
        "id": "VQKjaKp9zMgi"
      },
      "execution_count": null,
      "outputs": []
    },
    {
      "cell_type": "code",
      "source": [
        "df.drop(columns=['Cabin'],inplace=True)"
      ],
      "metadata": {
        "id": "m_y_OJRNzR9z"
      },
      "execution_count": null,
      "outputs": []
    },
    {
      "cell_type": "code",
      "source": [
        "df.isnull().sum()"
      ],
      "metadata": {
        "id": "sgLKYGlizigg"
      },
      "execution_count": null,
      "outputs": []
    },
    {
      "cell_type": "code",
      "source": [
        "survived = df['Survived'].value_counts()\n",
        "survived"
      ],
      "metadata": {
        "id": "sfEUvXmZ35uF"
      },
      "execution_count": null,
      "outputs": []
    },
    {
      "cell_type": "code",
      "source": [
        "plt.figure(figsize=(6,6))\n",
        "plt.pie(survived,labels=['Not Survived','Survived'],autopct='%1.1f%%',colors=['pink','skyblue'])\n",
        "plt.title('Survival Status')\n",
        "plt.show()"
      ],
      "metadata": {
        "id": "R9HOfM0l382v"
      },
      "execution_count": null,
      "outputs": []
    },
    {
      "cell_type": "code",
      "source": [
        "sns.set_style(\"whitegrid\")\n",
        "plt.figure(figsize=(6,6))\n",
        "sns.countplot(x='Survived',hue='Survived',data=df,palette=['pink','lightblue'])\n",
        "plt.title('Survival Status')\n",
        "plt.xlabel('Survived')\n",
        "plt.ylabel('Count')\n",
        "plt.show()"
      ],
      "metadata": {
        "id": "qOm6e3Ax7oRz"
      },
      "execution_count": null,
      "outputs": []
    },
    {
      "cell_type": "code",
      "source": [
        "plt.figure(figsize=(10, 5))\n",
        "sns.histplot(df['Fare'], bins=20, kde=True)\n",
        "plt.xlabel('Fare')\n",
        "plt.ylabel('Frequency')\n",
        "plt.title('Distribution of Ticket Prices (Fares)')\n",
        "plt.show()\n"
      ],
      "metadata": {
        "id": "dgCvH2pT9D6Q"
      },
      "execution_count": null,
      "outputs": []
    },
    {
      "cell_type": "code",
      "source": [
        "sns.boxplot(x='Sex', y='Age', data=df, hue=\"Survived\")"
      ],
      "metadata": {
        "id": "WDvcwdj_9-1q"
      },
      "execution_count": null,
      "outputs": []
    },
    {
      "cell_type": "code",
      "source": [
        "sns.violinplot(x='Sex', y='Age', data=df, hue=\"Survived\", palette=['lightcoral', 'cyan'])"
      ],
      "metadata": {
        "id": "rumKwgte-EI4"
      },
      "execution_count": null,
      "outputs": []
    }
  ]
}