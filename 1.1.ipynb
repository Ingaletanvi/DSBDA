{
  "nbformat": 4,
  "nbformat_minor": 0,
  "metadata": {
    "colab": {
      "provenance": [],
      "authorship_tag": "ABX9TyP2wsttQcwh7l3gQYjgHevq",
      "include_colab_link": true
    },
    "kernelspec": {
      "name": "python3",
      "display_name": "Python 3"
    },
    "language_info": {
      "name": "python"
    }
  },
  "cells": [
    {
      "cell_type": "markdown",
      "metadata": {
        "id": "view-in-github",
        "colab_type": "text"
      },
      "source": [
        "<a href=\"https://colab.research.google.com/github/Ingaletanvi/DSBDA/blob/main/1.1.ipynb\" target=\"_parent\"><img src=\"https://colab.research.google.com/assets/colab-badge.svg\" alt=\"Open In Colab\"/></a>"
      ]
    },
    {
      "cell_type": "markdown",
      "source": [
        "Consider the “Academic performance” dataset of students (Academic_Performance_Dataset.csv) and perform the\n",
        "following operations using Python.\n",
        "a) Scan all variables for missing values and inconsistencies. If there are missing values and/or inconsistencies, use any\n",
        "of the suitable techniques to deal with them.\n",
        "b) Scan all numeric variables for outliers. If there are outliers, use any of the suitable techniques to deal with them.\n",
        "c) Apply data transformations on categorical variables to convert it into numerical variables.\n",
        "Reason and document your approach properly."
      ],
      "metadata": {
        "id": "e0H3IVClcmEF"
      }
    },
    {
      "cell_type": "code",
      "execution_count": null,
      "metadata": {
        "id": "rlEHaPYGbSs9"
      },
      "outputs": [],
      "source": [
        "import pandas as pd"
      ]
    },
    {
      "cell_type": "code",
      "source": [
        "df= pd.read_csv(\"/content/Academic_Performance.csv\")"
      ],
      "metadata": {
        "id": "OVibCpuIiNci"
      },
      "execution_count": null,
      "outputs": []
    },
    {
      "cell_type": "code",
      "source": [
        "df"
      ],
      "metadata": {
        "id": "jnIHO7Rhicnp"
      },
      "execution_count": null,
      "outputs": []
    },
    {
      "cell_type": "code",
      "source": [
        "df.dtypes"
      ],
      "metadata": {
        "id": "ClOI810DigMD"
      },
      "execution_count": null,
      "outputs": []
    },
    {
      "cell_type": "code",
      "source": [
        "df.isnull().sum()"
      ],
      "metadata": {
        "id": "si68R_ecikAH"
      },
      "execution_count": null,
      "outputs": []
    },
    {
      "cell_type": "code",
      "source": [
        "cols = ['COURSE 1 MARKS', 'COURSE 2 MARKS', 'COURSE 3 MARKS', 'COURSE 4 MARKS', 'COURSE 5 MARKS']\n",
        "df[cols] = df[cols].fillna(df[cols].mean())\n"
      ],
      "metadata": {
        "id": "uVsDYXuci4BC"
      },
      "execution_count": null,
      "outputs": []
    },
    {
      "cell_type": "code",
      "source": [
        "df"
      ],
      "metadata": {
        "id": "Xt9LDUL4j7Kr"
      },
      "execution_count": null,
      "outputs": []
    },
    {
      "cell_type": "code",
      "source": [
        "df.isnull().sum()"
      ],
      "metadata": {
        "id": "Lpoj7qI1kR3p"
      },
      "execution_count": null,
      "outputs": []
    },
    {
      "cell_type": "code",
      "source": [
        "from sklearn.impute import SimpleImputer\n",
        "imputer = SimpleImputer(strategy = 'most_frequent')\n",
        "data_new = pd.DataFrame(imputer.fit_transform(df),columns=df.columns,index=df.index)\n",
        "data_new = data_new.astype(df.dtypes)\n",
        "df=data_new"
      ],
      "metadata": {
        "id": "A66rVoq9mc9C"
      },
      "execution_count": null,
      "outputs": []
    },
    {
      "cell_type": "code",
      "source": [
        "df"
      ],
      "metadata": {
        "id": "N_a1c7kCpDDv"
      },
      "execution_count": null,
      "outputs": []
    },
    {
      "cell_type": "code",
      "source": [
        "df.isnull().sum()"
      ],
      "metadata": {
        "id": "JXt9e_ddpGSj"
      },
      "execution_count": null,
      "outputs": []
    },
    {
      "cell_type": "code",
      "source": [
        "df.dtypes"
      ],
      "metadata": {
        "id": "QhW10yNqpXNS"
      },
      "execution_count": null,
      "outputs": []
    },
    {
      "cell_type": "markdown",
      "source": [
        "**OUTLIERS**"
      ],
      "metadata": {
        "id": "jywZ4mtssr8O"
      }
    },
    {
      "cell_type": "code",
      "source": [
        "import seaborn as sns\n",
        "import numpy as np"
      ],
      "metadata": {
        "id": "iov0xuhLsxfG"
      },
      "execution_count": null,
      "outputs": []
    },
    {
      "cell_type": "code",
      "source": [
        "cols = ['COURSE 1 MARKS', 'COURSE 2 MARKS', 'COURSE 3 MARKS', 'COURSE 4 MARKS', 'COURSE 5 MARKS']\n",
        "sns.boxplot(df[cols])"
      ],
      "metadata": {
        "id": "8Dj8BQOVtAmY"
      },
      "execution_count": null,
      "outputs": []
    },
    {
      "cell_type": "code",
      "source": [
        "def outliers(data_item):\n",
        "    outliers=[]\n",
        "    data_item=sorted(data_item)\n",
        "    q1 = np.percentile(data_item,25)\n",
        "    q3 = np.percentile(data_item,75)\n",
        "    iqr = q3-q1\n",
        "    lower_bound = q1-(1.5*iqr)\n",
        "    upper_bound = q3+(1.5*iqr)\n",
        "    print(lower_bound,upper_bound)\n",
        "    for i in data_item:\n",
        "        if(i<lower_bound or i>upper_bound):\n",
        "            outliers.append(i)\n",
        "    print(outliers)\n",
        "    return lower_bound,upper_bound"
      ],
      "metadata": {
        "id": "-Y6z8_cDt4LC"
      },
      "execution_count": null,
      "outputs": []
    },
    {
      "cell_type": "code",
      "source": [
        "lower,upper = outliers(df['COURSE 1 MARKS'])"
      ],
      "metadata": {
        "id": "1pKmAz7Yu-r-"
      },
      "execution_count": null,
      "outputs": []
    },
    {
      "cell_type": "code",
      "source": [
        "df = df[df['COURSE 1 MARKS']>lower]\n",
        "df = df[df['COURSE 1 MARKS']<upper]"
      ],
      "metadata": {
        "id": "a-f-xHwSvs3l"
      },
      "execution_count": null,
      "outputs": []
    },
    {
      "cell_type": "code",
      "source": [
        "df"
      ],
      "metadata": {
        "id": "YGW6HrF-vuZJ"
      },
      "execution_count": null,
      "outputs": []
    },
    {
      "cell_type": "code",
      "source": [
        "cols = ['COURSE 1 MARKS', 'COURSE 2 MARKS', 'COURSE 3 MARKS', 'COURSE 4 MARKS', 'COURSE 5 MARKS']\n",
        "sns.boxplot(df[cols])"
      ],
      "metadata": {
        "id": "Bm005FlHv4Jj"
      },
      "execution_count": null,
      "outputs": []
    },
    {
      "cell_type": "code",
      "source": [
        "performance= df.select_dtypes(exclude=[np.number])"
      ],
      "metadata": {
        "id": "V9l_xhWC09X2"
      },
      "execution_count": null,
      "outputs": []
    },
    {
      "cell_type": "code",
      "source": [
        "performance"
      ],
      "metadata": {
        "id": "OvmSrA9C1ISR"
      },
      "execution_count": null,
      "outputs": []
    },
    {
      "cell_type": "code",
      "source": [
        "performance['PLACEMENT'].replace({\"Yes\": 1,\"No\":0},inplace=True)\n",
        "performance"
      ],
      "metadata": {
        "id": "7dh5qKLf1MYy"
      },
      "execution_count": null,
      "outputs": []
    },
    {
      "cell_type": "code",
      "source": [
        "performance['GENDER'].replace({\"F\":1, \"M\":0},inplace=True)\n",
        "performance"
      ],
      "metadata": {
        "id": "CoTgFsCu1uSN"
      },
      "execution_count": null,
      "outputs": []
    },
    {
      "cell_type": "code",
      "source": [
        "performance['HONOR_OPTED_OR_NOT'].replace({\"Yes\":1, \"No\":0},inplace=True)\n",
        "performance"
      ],
      "metadata": {
        "id": "a95pkoIp3Fot"
      },
      "execution_count": null,
      "outputs": []
    },
    {
      "cell_type": "code",
      "source": [
        "from sklearn.preprocessing import LabelEncoder\n",
        "label_encoder = LabelEncoder()\n",
        "cols = ['STUDENT_ID', 'EDUCATION_TYPE', 'ACADEMIC_PROGRAM', 'OVEARLL_GRADE']\n",
        "for i in cols:\n",
        "    performance[i] = label_encoder.fit_transform(performance[i])\n",
        "performance"
      ],
      "metadata": {
        "id": "PbQnPxRe2sXo"
      },
      "execution_count": null,
      "outputs": []
    },
    {
      "cell_type": "code",
      "source": [],
      "metadata": {
        "id": "qILWQX8Z2-l7"
      },
      "execution_count": null,
      "outputs": []
    }
  ]
}