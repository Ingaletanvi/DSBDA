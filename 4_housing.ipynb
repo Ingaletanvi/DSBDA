{
  "nbformat": 4,
  "nbformat_minor": 0,
  "metadata": {
    "colab": {
      "provenance": [],
      "authorship_tag": "ABX9TyP6HZv4CAuVf+xtBE+Hbqta",
      "include_colab_link": true
    },
    "kernelspec": {
      "name": "python3",
      "display_name": "Python 3"
    },
    "language_info": {
      "name": "python"
    }
  },
  "cells": [
    {
      "cell_type": "markdown",
      "metadata": {
        "id": "view-in-github",
        "colab_type": "text"
      },
      "source": [
        "<a href=\"https://colab.research.google.com/github/Ingaletanvi/DSBDA/blob/main/4_housing.ipynb\" target=\"_parent\"><img src=\"https://colab.research.google.com/assets/colab-badge.svg\" alt=\"Open In Colab\"/></a>"
      ]
    },
    {
      "cell_type": "markdown",
      "source": [
        "Consider the Bangalore House Price Data. Perform following operations.\n",
        "a) Find and replace null values in the data using appropriate technique.\n",
        "b) Transform the ‘Size’ column to numerical values. For Example: 2 BHK to be converted as 2\n",
        "c) Transform the ‘total_sqft’ column to contain numerical values on same scale. If the range is given average value of\n",
        "the range to be taken.\n",
        "d) Calculate and add one more column as ‘Price_Per_Sqft’\n",
        "e) Remove the outliers from Price_Per_Sqft and BHK Size column if any.\n",
        "f) Apply the Linear Regression model to the data and display the training and testing performance measures as Mean\n",
        " Squared Error and Accuracy"
      ],
      "metadata": {
        "id": "h73Sb8-iZh1_"
      }
    },
    {
      "cell_type": "code",
      "execution_count": null,
      "metadata": {
        "id": "NAKaZIPpZgih"
      },
      "outputs": [],
      "source": [
        "import pandas as pd\n",
        "import numpy as np"
      ]
    },
    {
      "cell_type": "code",
      "source": [
        "df = pd.read_csv(\"/content/Banglore Housing Prices.csv\")"
      ],
      "metadata": {
        "id": "GCCY5YXiaR6b"
      },
      "execution_count": null,
      "outputs": []
    },
    {
      "cell_type": "code",
      "source": [
        "df"
      ],
      "metadata": {
        "id": "oQ4_Z2Zyaae_"
      },
      "execution_count": null,
      "outputs": []
    },
    {
      "cell_type": "code",
      "source": [
        "df.isnull().sum()"
      ],
      "metadata": {
        "id": "LpKvTXeDacI-"
      },
      "execution_count": null,
      "outputs": []
    },
    {
      "cell_type": "code",
      "source": [
        "df.dropna(subset=['location'], inplace=True)\n"
      ],
      "metadata": {
        "id": "tO4l0CqhagPj"
      },
      "execution_count": null,
      "outputs": []
    },
    {
      "cell_type": "code",
      "source": [
        "df['bath'].fillna(df['bath'].mean(),inplace= True)"
      ],
      "metadata": {
        "id": "nW5Rkh3LdYWx"
      },
      "execution_count": null,
      "outputs": []
    },
    {
      "cell_type": "code",
      "source": [
        "df['size'].fillna(value='2 BHK', inplace=True)"
      ],
      "metadata": {
        "id": "PZ_9epiYd9gk"
      },
      "execution_count": null,
      "outputs": []
    },
    {
      "cell_type": "code",
      "source": [
        "df.isnull().sum()"
      ],
      "metadata": {
        "id": "VBGoicpTeFry"
      },
      "execution_count": null,
      "outputs": []
    },
    {
      "cell_type": "code",
      "source": [
        "df.dtypes"
      ],
      "metadata": {
        "id": "Yx5VVS_cqlyY"
      },
      "execution_count": null,
      "outputs": []
    },
    {
      "cell_type": "code",
      "source": [
        "df['BHK'] = df['size'].apply(lambda x : int(x.split(' ')[0]))"
      ],
      "metadata": {
        "id": "9zLp7wJ9qp7T"
      },
      "execution_count": null,
      "outputs": []
    },
    {
      "cell_type": "code",
      "source": [
        "df=df.drop('size',axis=1)"
      ],
      "metadata": {
        "id": "KoSqg-9irBQG"
      },
      "execution_count": null,
      "outputs": []
    },
    {
      "cell_type": "code",
      "source": [
        "df"
      ],
      "metadata": {
        "id": "CV3AVSXCrKBG"
      },
      "execution_count": null,
      "outputs": []
    },
    {
      "cell_type": "code",
      "source": [
        "df.dtypes"
      ],
      "metadata": {
        "id": "yBpRKnLXrYvB"
      },
      "execution_count": null,
      "outputs": []
    },
    {
      "cell_type": "code",
      "source": [
        "import re\n",
        "\n",
        "def convert_sqft_to_num(sqft):\n",
        "  if '-' in sqft:\n",
        "    tokens = sqft.split('-')\n",
        "    return (float(tokens[0])+ float(tokens[1]))/2\n",
        "  else:\n",
        "    numeric_part = re.search(r'\\d+\\.\\d+|\\d+' , sqft).group()\n",
        "    return float(numeric_part)\n",
        "df['total_sqft'] = df['total_sqft'].apply(convert_sqft_to_num)"
      ],
      "metadata": {
        "id": "Eo9AFl_frfBN"
      },
      "execution_count": null,
      "outputs": []
    },
    {
      "cell_type": "code",
      "source": [
        "df['total_sqft'].dtypes"
      ],
      "metadata": {
        "id": "926PeZ2BvPgj"
      },
      "execution_count": null,
      "outputs": []
    },
    {
      "cell_type": "code",
      "source": [
        "df"
      ],
      "metadata": {
        "id": "2htVwVa_vXuh"
      },
      "execution_count": null,
      "outputs": []
    },
    {
      "cell_type": "code",
      "source": [
        "df['Price_Per_Sqft'] = df['price'] / df['total_sqft']\n",
        "df.dtypes"
      ],
      "metadata": {
        "id": "7wYQ2Z4yvcJ7"
      },
      "execution_count": null,
      "outputs": []
    },
    {
      "cell_type": "code",
      "source": [
        "df.head()"
      ],
      "metadata": {
        "id": "88gTGsw_vkdt"
      },
      "execution_count": null,
      "outputs": []
    },
    {
      "cell_type": "code",
      "source": [
        "z_score_price_sqft = np.abs((df['Price_Per_Sqft'] - df['Price_Per_Sqft'].mean()) / df['Price_Per_Sqft'].std())\n",
        "z_score_bhk = np.abs((df['BHK'] - df['BHK'].mean()) / df['BHK'].std())\n"
      ],
      "metadata": {
        "id": "WBn7Znf0wMrv"
      },
      "execution_count": null,
      "outputs": []
    },
    {
      "cell_type": "code",
      "source": [
        "df_no_outliers = df[(z_score_price_sqft < 3) & (z_score_bhk < 3)]"
      ],
      "metadata": {
        "id": "B1-ZIdT_4jnS"
      },
      "execution_count": null,
      "outputs": []
    },
    {
      "cell_type": "code",
      "source": [
        "df_no_outliers.head()\n"
      ],
      "metadata": {
        "id": "lI8Erqk44p1a"
      },
      "execution_count": null,
      "outputs": []
    },
    {
      "cell_type": "markdown",
      "source": [
        "**LINEAR REGRESSION**"
      ],
      "metadata": {
        "id": "Jnlq1U8u4s_X"
      }
    },
    {
      "cell_type": "code",
      "source": [
        "from sklearn.model_selection import train_test_split\n",
        "from sklearn.linear_model import LinearRegression"
      ],
      "metadata": {
        "id": "Z2sn_l4g40kp"
      },
      "execution_count": null,
      "outputs": []
    },
    {
      "cell_type": "code",
      "source": [
        "x = df_no_outliers[['BHK', 'total_sqft', 'bath']]\n",
        "y = df_no_outliers['price']\n",
        "\n",
        "x_train, x_test, y_train, y_test = train_test_split(x, y,test_size=0.2,random_state=42)\n"
      ],
      "metadata": {
        "id": "jGaIV7a05EwS"
      },
      "execution_count": null,
      "outputs": []
    },
    {
      "cell_type": "code",
      "source": [
        "model = LinearRegression()\n",
        "model.fit(x_train, y_train)"
      ],
      "metadata": {
        "id": "G0YvRzC35RPX"
      },
      "execution_count": null,
      "outputs": []
    },
    {
      "cell_type": "code",
      "source": [
        "from sklearn.metrics import mean_squared_error, accuracy_score\n",
        "# Training performance\n",
        "train_preds = model.predict(x_train)\n",
        "train_mse = mean_squared_error(y_train, train_preds)\n",
        "train_r_squared = model.score(x_train, y_train)\n",
        "print(f'Training Mean Squared Error: {train_mse}')\n",
        "print(f'Training R-squared: {train_r_squared}')\n"
      ],
      "metadata": {
        "id": "rdcf1ldx5V0M"
      },
      "execution_count": null,
      "outputs": []
    },
    {
      "cell_type": "code",
      "source": [
        " # Testing performance\n",
        "test_preds = model.predict(x_test)\n",
        "test_mse = mean_squared_error(y_test, test_preds)\n",
        "test_r_squared = model.score(x_test, y_test)\n",
        "print(f'Testing Mean Squared Error: {test_mse}')\n",
        "print(f'Testing R-squared: {test_r_squared}')\n"
      ],
      "metadata": {
        "id": "Ievw3_8M5Z8u"
      },
      "execution_count": null,
      "outputs": []
    }
  ]
}